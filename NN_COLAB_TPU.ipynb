{
  "nbformat": 4,
  "nbformat_minor": 0,
  "metadata": {
    "colab": {
      "name": "NN_COLAB_TPU.ipynb",
      "provenance": [],
      "collapsed_sections": [],
      "include_colab_link": true
    },
    "kernelspec": {
      "name": "python3",
      "display_name": "Python 3"
    },
    "accelerator": "TPU"
  },
  "cells": [
    {
      "cell_type": "markdown",
      "metadata": {
        "id": "view-in-github",
        "colab_type": "text"
      },
      "source": [
        "<a href=\"https://colab.research.google.com/github/kryksh/master-thesis/blob/master/NN_COLAB_TPU.ipynb\" target=\"_parent\"><img src=\"https://colab.research.google.com/assets/colab-badge.svg\" alt=\"Open In Colab\"/></a>"
      ]
    },
    {
      "cell_type": "code",
      "metadata": {
        "id": "BP_OXpbxOO-d",
        "colab_type": "code",
        "outputId": "a62c2c70-6264-458c-d1e3-cab2bde0acca",
        "colab": {
          "base_uri": "https://localhost:8080/",
          "height": 354
        }
      },
      "source": [
        "!pip install PyDrive"
      ],
      "execution_count": 0,
      "outputs": [
        {
          "output_type": "stream",
          "text": [
            "Collecting PyDrive\n",
            "\u001b[?25l  Downloading https://files.pythonhosted.org/packages/52/e0/0e64788e5dd58ce2d6934549676243dc69d982f198524be9b99e9c2a4fd5/PyDrive-1.3.1.tar.gz (987kB)\n",
            "\u001b[K     |████████████████████████████████| 993kB 3.5MB/s \n",
            "\u001b[?25hRequirement already satisfied: google-api-python-client>=1.2 in /usr/local/lib/python3.6/dist-packages (from PyDrive) (1.6.7)\n",
            "Requirement already satisfied: oauth2client>=4.0.0 in /usr/local/lib/python3.6/dist-packages (from PyDrive) (4.1.3)\n",
            "Requirement already satisfied: PyYAML>=3.0 in /usr/local/lib/python3.6/dist-packages (from PyDrive) (3.13)\n",
            "Requirement already satisfied: uritemplate<4dev,>=3.0.0 in /usr/local/lib/python3.6/dist-packages (from google-api-python-client>=1.2->PyDrive) (3.0.0)\n",
            "Requirement already satisfied: six<2dev,>=1.6.1 in /usr/local/lib/python3.6/dist-packages (from google-api-python-client>=1.2->PyDrive) (1.12.0)\n",
            "Requirement already satisfied: httplib2<1dev,>=0.9.2 in /usr/local/lib/python3.6/dist-packages (from google-api-python-client>=1.2->PyDrive) (0.11.3)\n",
            "Requirement already satisfied: pyasn1>=0.1.7 in /usr/local/lib/python3.6/dist-packages (from oauth2client>=4.0.0->PyDrive) (0.4.5)\n",
            "Requirement already satisfied: pyasn1-modules>=0.0.5 in /usr/local/lib/python3.6/dist-packages (from oauth2client>=4.0.0->PyDrive) (0.2.5)\n",
            "Requirement already satisfied: rsa>=3.1.4 in /usr/local/lib/python3.6/dist-packages (from oauth2client>=4.0.0->PyDrive) (4.0)\n",
            "Building wheels for collected packages: PyDrive\n",
            "  Building wheel for PyDrive (setup.py) ... \u001b[?25l\u001b[?25hdone\n",
            "  Stored in directory: /root/.cache/pip/wheels/fa/d2/9a/d3b6b506c2da98289e5d417215ce34b696db856643bad779f4\n",
            "Successfully built PyDrive\n",
            "Installing collected packages: PyDrive\n",
            "Successfully installed PyDrive-1.3.1\n"
          ],
          "name": "stdout"
        }
      ]
    },
    {
      "cell_type": "code",
      "metadata": {
        "id": "pUqVE7XDllLD",
        "colab_type": "code",
        "outputId": "54df99b5-8d6f-4542-a25b-d246a7ed6ee3",
        "colab": {
          "base_uri": "https://localhost:8080/",
          "height": 34
        }
      },
      "source": [
        "import os\n",
        "from pydrive.auth import GoogleAuth\n",
        "from pydrive.drive import GoogleDrive\n",
        "from google.colab import auth\n",
        "from oauth2client.client import GoogleCredentials\n",
        "from sklearn.preprocessing import StandardScaler\n",
        "import numpy as np\n",
        "from sklearn.model_selection import train_test_split\n",
        "import pandas as pd\n",
        "import shelve\n",
        "from keras.models import Sequential\n",
        "from keras import optimizers\n",
        "from keras.layers import Dense, BatchNormalization, SimpleRNN, Dropout, Flatten\n",
        "from keras.layers import LSTM\n",
        "from keras import backend as K\n",
        "from keras.regularizers import l2 \n",
        "import shelve\n",
        "import math\n",
        "import tensorflow as tf\n",
        "from tensorflow import keras\n",
        "import cv2\n",
        "import time\n",
        "import pprint"
      ],
      "execution_count": 0,
      "outputs": [
        {
          "output_type": "stream",
          "text": [
            "Using TensorFlow backend.\n"
          ],
          "name": "stderr"
        }
      ]
    },
    {
      "cell_type": "code",
      "metadata": {
        "id": "4syKr5x8llNp",
        "colab_type": "code",
        "outputId": "708d4f23-543a-4256-fab0-cb49043b8757",
        "colab": {
          "base_uri": "https://localhost:8080/",
          "height": 140
        }
      },
      "source": [
        "auth.authenticate_user()\n",
        "gauth = GoogleAuth()\n",
        "gauth.credentials = GoogleCredentials.get_application_default()\n",
        "drive = GoogleDrive(gauth)"
      ],
      "execution_count": 0,
      "outputs": [
        {
          "output_type": "stream",
          "text": [
            "\n",
            "WARNING: The TensorFlow contrib module will not be included in TensorFlow 2.0.\n",
            "For more information, please see:\n",
            "  * https://github.com/tensorflow/community/blob/master/rfcs/20180907-contrib-sunset.md\n",
            "  * https://github.com/tensorflow/addons\n",
            "If you depend on functionality not listed there, please file an issue.\n",
            "\n"
          ],
          "name": "stdout"
        }
      ]
    },
    {
      "cell_type": "code",
      "metadata": {
        "id": "C9adykgullQ0",
        "colab_type": "code",
        "outputId": "fd68be3b-bfb3-474a-a979-fa372d02d4a0",
        "colab": {
          "base_uri": "https://localhost:8080/",
          "height": 228
        }
      },
      "source": [
        "download = drive.CreateFile({'id': '17U-fCI_gFZjMtUXGl_PhYJClaYmnii2l'})\n",
        "download.GetContentFile('python_files.tar')\n",
        "!tar -xvf python_files.tar\n",
        "!rm python_files.tar"
      ],
      "execution_count": 0,
      "outputs": [
        {
          "output_type": "stream",
          "text": [
            "camera_calibration.py\n",
            "facial_feature_detector.py\n",
            "frontalize.py\n",
            "get_default_points.py\n",
            "get_frontal_image.py\n",
            "merge.py\n",
            "new_paint.py\n",
            "paint.py\n",
            "pre_audio.py\n",
            "preprocessing.py\n",
            "pre_video.py\n",
            "shelve_reader.py\n"
          ],
          "name": "stdout"
        }
      ]
    },
    {
      "cell_type": "code",
      "metadata": {
        "id": "67d6TUZQllUW",
        "colab_type": "code",
        "outputId": "044f8a3b-8f07-4b09-8d5b-b33d5bf0886f",
        "colab": {
          "base_uri": "https://localhost:8080/",
          "height": 140
        }
      },
      "source": [
        "download = drive.CreateFile({'id': '13CU7PrquSDYhfkc5IjwNQ32qLFcB89Kc'})\n",
        "download.GetContentFile('for_front.tar')\n",
        "!tar -xvf for_front.tar\n",
        "!rm for_front.tar"
      ],
      "execution_count": 0,
      "outputs": [
        {
          "output_type": "stream",
          "text": [
            "dlib_models/\n",
            "dlib_models/shape_predictor_68_face_landmarks.dat\n",
            "frontalization_models/\n",
            "frontalization_models/eyemask.mat\n",
            "frontalization_models/model3Ddlib.mat\n",
            "frontalization_models/DataAlign2LFWa.mat\n",
            "frontalization_models/ref3d.pkl\n"
          ],
          "name": "stdout"
        }
      ]
    },
    {
      "cell_type": "code",
      "metadata": {
        "id": "ci9eehNPlum8",
        "colab_type": "code",
        "outputId": "0e5bf0f0-12b4-42f8-edd3-73962affab37",
        "colab": {
          "base_uri": "https://localhost:8080/",
          "height": 158
        }
      },
      "source": [
        "download = drive.CreateFile({'id': '1qpn7lpmpLLWfEB60oDUaKOaWDW3X3PCF'})\n",
        "download.GetContentFile('extracted_data.tar')\n",
        "!tar -xvf extracted_data.tar\n",
        "!rm extracted_data.tar"
      ],
      "execution_count": 0,
      "outputs": [
        {
          "output_type": "stream",
          "text": [
            "extracted_data/merge_0.csv\n",
            "extracted_data/merge_1.csv\n",
            "extracted_data/merge_2.csv\n",
            "extracted_data/merge_3.csv\n",
            "extracted_data/merge_4.csv\n",
            "extracted_data/merge_5.csv\n",
            "extracted_data/merge_6.csv\n",
            "extracted_data/merge_7.csv\n"
          ],
          "name": "stdout"
        }
      ]
    },
    {
      "cell_type": "code",
      "metadata": {
        "id": "6MywJnBCluug",
        "colab_type": "code",
        "outputId": "cc02eb4d-3bba-4166-b180-cccb8c5cee7a",
        "colab": {
          "base_uri": "https://localhost:8080/",
          "height": 369
        }
      },
      "source": [
        "download = drive.CreateFile({'id': '10Kb1Ytn1q0liy4KKdOiwhmE2p8Y-NNUY'})\n",
        "download.GetContentFile('data.tar')\n",
        "!tar -xvf data.tar\n",
        "!rm data.tar"
      ],
      "execution_count": 0,
      "outputs": [
        {
          "output_type": "stream",
          "text": [
            "data/\n",
            "data/video_1.mp4\n",
            "data/audio_0.wav\n",
            "data/video_0.mp4\n",
            "data/audio_7.wav\n",
            "data/video_6.mp4\n",
            "data/audio_3.wav\n",
            "data/video_5.mp4\n",
            "data/audio_5.wav\n",
            "data/ddef_face_5.png\n",
            "data/ddef_face_7.png\n",
            "data/audio_6.wav\n",
            "data/video_3.mp4\n",
            "data/video_2.mp4\n",
            "data/video_7.mp4\n",
            "data/audio_2.wav\n",
            "data/ddef_face_6.png\n",
            "data/audio_4.wav\n",
            "data/video_4.mp4\n",
            "data/audio_1.wav\n"
          ],
          "name": "stdout"
        }
      ]
    },
    {
      "cell_type": "code",
      "metadata": {
        "id": "CG88ETLmlu2j",
        "colab_type": "code",
        "colab": {}
      },
      "source": [
        "def getFirstFrame(videofile, imagefile):\n",
        "    vidcap = cv2.VideoCapture(videofile)\n",
        "    success, image = vidcap.read()\n",
        "    if success:\n",
        "        cv2.imwrite(imagefile, image)"
      ],
      "execution_count": 0,
      "outputs": []
    },
    {
      "cell_type": "code",
      "metadata": {
        "id": "5aVn3vvLo5Z1",
        "colab_type": "code",
        "colab": {}
      },
      "source": [
        "import preprocessing\n",
        "import get_default_points\n",
        "import get_frontal_image"
      ],
      "execution_count": 0,
      "outputs": []
    },
    {
      "cell_type": "code",
      "metadata": {
        "id": "_AVx57QbkvrA",
        "colab_type": "code",
        "colab": {}
      },
      "source": [
        "getFirstFrame('/content/data/video_0.mp4', '/content/data/for_def_face_0.png')\n",
        "getFirstFrame('/content/data/video_1.mp4', '/content/data/for_def_face_1.png')\n",
        "getFirstFrame('/content/data/video_2.mp4', '/content/data/for_def_face_2.png')\n",
        "getFirstFrame('/content/data/video_3.mp4', '/content/data/for_def_face_3.png')\n",
        "getFirstFrame('/content/data/video_4.mp4', '/content/data/for_def_face_4.png')\n",
        "getFirstFrame('/content/data/video_5.mp4', '/content/data/for_def_face_5.png')\n",
        "getFirstFrame('/content/data/video_6.mp4', '/content/data/for_def_face_6.png')\n",
        "getFirstFrame('/content/data/video_7.mp4', '/content/data/for_def_face_7.png')"
      ],
      "execution_count": 0,
      "outputs": []
    },
    {
      "cell_type": "code",
      "metadata": {
        "id": "Z_u6Bx3QzAy6",
        "colab_type": "code",
        "colab": {}
      },
      "source": [
        "get_frontal_image.get_frontal_image('/content/data/for_def_face_0.png')\n",
        "!mv frontal_image.png data/def_face_0.png\n",
        "get_frontal_image.get_frontal_image('/content/data/for_def_face_1.png')\n",
        "!mv frontal_image.png data/def_face_1.png\n",
        "get_frontal_image.get_frontal_image('/content/data/for_def_face_2.png')\n",
        "!mv frontal_image.png data/def_face_2.png\n",
        "get_frontal_image.get_frontal_image('/content/data/for_def_face_3.png')\n",
        "!mv frontal_image.png data/def_face_3.png\n",
        "get_frontal_image.get_frontal_image('/content/data/for_def_face_4.png')\n",
        "!mv frontal_image.png data/def_face_4.png\n",
        "get_frontal_image.get_frontal_image('/content/data/for_def_face_5.png')\n",
        "!mv frontal_image.png data/def_face_5.png\n",
        "get_frontal_image.get_frontal_image('/content/data/for_def_face_6.png')\n",
        "!mv frontal_image.png data/def_face_6.png\n",
        "get_frontal_image.get_frontal_image('/content/data/for_def_face_7.png')\n",
        "!mv frontal_image.png data/def_face_7.png"
      ],
      "execution_count": 0,
      "outputs": []
    },
    {
      "cell_type": "code",
      "metadata": {
        "id": "gFNTdx6pzEY0",
        "colab_type": "code",
        "outputId": "fdd3f2bf-11e6-401f-db28-fb05815b7306",
        "colab": {
          "base_uri": "https://localhost:8080/",
          "height": 158
        }
      },
      "source": [
        "get_default_points.extract_def_pts()"
      ],
      "execution_count": 0,
      "outputs": [
        {
          "output_type": "stream",
          "text": [
            "data/def_face_0.png\n",
            "data/def_face_1.png\n",
            "data/def_face_2.png\n",
            "data/def_face_3.png\n",
            "data/def_face_4.png\n",
            "data/def_face_5.png\n",
            "data/def_face_6.png\n",
            "data/def_face_7.png\n"
          ],
          "name": "stdout"
        }
      ]
    },
    {
      "cell_type": "code",
      "metadata": {
        "id": "aWzjDqO0nuZ8",
        "colab_type": "code",
        "colab": {}
      },
      "source": [
        "from sklearn.preprocessing import StandardScaler\n",
        "import numpy as np\n",
        "import os\n",
        "import pandas as pd\n",
        "import shelve\n",
        "\n",
        "def get_time_series(file, length):\n",
        "    df = pd.read_csv(file)\n",
        "    t_prev = 0.0\n",
        "    X = []\n",
        "    x = []\n",
        "    y = []\n",
        "\n",
        "    for row in df.values:\n",
        "        t, a, v = row[0], row[1: 14], row[14: ]\n",
        "        if x:\n",
        "            if round(t - t_prev) < 35:\n",
        "                x.append(a)\n",
        "                if len(x) == length:\n",
        "                    X.append(x)\n",
        "                    y.append(v)\n",
        "                    x = x[1: ]\n",
        "            else:\n",
        "                x = [a]\n",
        "        else:\n",
        "            x.append(a)\n",
        "            if len(x) == length:\n",
        "                X.append(x)\n",
        "                y.append(v)\n",
        "                x = x[1: ]\n",
        "\n",
        "        t_prev = t\n",
        "\n",
        "    return X, y\n",
        "\n",
        "def prepr_test(file, points, length):\n",
        "    X = []\n",
        "    y = []\n",
        "    X_, y_ = get_time_series(file, length)\n",
        "    db = shelve.open(points, 'r')\n",
        "    default_points = np.array(db['default_face']).ravel()\n",
        "    db.close()\n",
        "    y_ = y_ - default_points\n",
        "    y_ = np.array(y_)\n",
        "    X.extend(X_)\n",
        "    y.extend(y_)\n",
        "    \n",
        "    for i, x in enumerate(X):\n",
        "        tmp = []\n",
        "        for mfcc in x:\n",
        "            tmp.extend(mfcc)\n",
        "        X[i] = tmp\n",
        "    X = np.array(X)\n",
        "\n",
        "\n",
        "    for i, y_ in enumerate(y):\n",
        "        y[i] = y[i][96:]\n",
        "    y = np.array(y)\n",
        "\n",
        "    # нормализация звуков\n",
        "    scaler = StandardScaler()\n",
        "    #print(X_test)\n",
        "    X = scaler.fit_transform(X)\n",
        "\n",
        "    return X, y"
      ],
      "execution_count": 0,
      "outputs": []
    },
    {
      "cell_type": "code",
      "metadata": {
        "id": "MqLPqhZBp2PO",
        "colab_type": "code",
        "colab": {}
      },
      "source": [
        "!mv extracted_data/merge_7.csv extracted_data/test.csv "
      ],
      "execution_count": 0,
      "outputs": []
    },
    {
      "cell_type": "code",
      "metadata": {
        "id": "hCH7o4vFzEni",
        "colab_type": "code",
        "outputId": "70da8200-aef7-44de-b7f0-7052a26b4578",
        "colab": {
          "base_uri": "https://localhost:8080/",
          "height": 193
        }
      },
      "source": [
        "length = 16\n",
        "X_train, X_val, y_train, y_val = preprocessing.prepr(length=length, shuff=True)"
      ],
      "execution_count": 0,
      "outputs": [
        {
          "output_type": "stream",
          "text": [
            "asd [-11.  -2.  -9.  -1.  -7.  -1.  -5.   0.  -3.   1.  -2.  -1.   0.  -3.\n",
            "   1.  -3.   0.  -4.   0.  -6.   1.  -5.   2.  -3.   5.  -2.   6.  -1.\n",
            "   9.   0.  10.   0.  11.  -1.  -8.  -3.  -5.  -1.  -3.   1.  -2.   0.\n",
            "   0.  -2.   1.  -1.   1.  -1.   3.  -2.   4.  -3.   6.  -4.   1.   1.\n",
            "  -1.   1.  -1.   2.  -2.   3.  -1.   2.  -1.   3.  -2.   2.  -2.   2.\n",
            "  -3.   1.  -5.   1.  -4.   1.  -2.   0.  -2.   1.  -2.   1.  -3.   2.\n",
            "   0.   1.   1.  -1.   3.  -1.   4.   0.   3.   1.   2.   1.   1.   1.\n",
            "   0.   1.  -1.   0.  -2.  -1.  -4.   0.  -4.   0.  -7.   1.  -5.   1.\n",
            "  -4.   0.  -2.   0.  -1.   0.   0.   1.   2.   1.  -1.  -1.  -2.  -1.\n",
            "  -4.   0.  -8.   1.  -4.   0.  -2.   0.  -1.   1.]\n"
          ],
          "name": "stdout"
        }
      ]
    },
    {
      "cell_type": "code",
      "metadata": {
        "id": "Hbb7p3ovxaY5",
        "colab_type": "code",
        "colab": {}
      },
      "source": [
        "X_test, y_test = prepr_test('/content/extracted_data/test.csv', '/content/extracted_data/default_points_7.txt', length)"
      ],
      "execution_count": 0,
      "outputs": []
    },
    {
      "cell_type": "code",
      "metadata": {
        "id": "h4JFhHC9znL4",
        "colab_type": "code",
        "colab": {}
      },
      "source": [
        "rnn_X_train = X_train.reshape((X_train.shape[0], X_train.shape[1], 1))\n",
        "rnn_X_test = X_test.reshape((X_test.shape[0], X_test.shape[1], 1))\n",
        "rnn_X_val = X_val.reshape((X_val.shape[0], X_val.shape[1], 1))"
      ],
      "execution_count": 0,
      "outputs": []
    },
    {
      "cell_type": "code",
      "metadata": {
        "id": "5ZLt9T3Izp2l",
        "colab_type": "code",
        "outputId": "50cbd7bc-eb60-4b66-bd05-bd3affd324af",
        "colab": {
          "base_uri": "https://localhost:8080/",
          "height": 70
        }
      },
      "source": [
        "print(rnn_X_train.shape, y_train.shape)\n",
        "print(rnn_X_val.shape, y_val.shape)\n",
        "print(rnn_X_test.shape, y_test.shape)"
      ],
      "execution_count": 0,
      "outputs": [
        {
          "output_type": "stream",
          "text": [
            "(281408, 208, 1) (281408, 40)\n",
            "(31268, 208, 1) (31268, 40)\n",
            "(76119, 208, 1) (76119, 40)\n"
          ],
          "name": "stdout"
        }
      ]
    },
    {
      "cell_type": "code",
      "metadata": {
        "id": "9_6soFT-zrQX",
        "colab_type": "code",
        "colab": {}
      },
      "source": [
        "#n = round(math.sqrt(40 * 13 * length)) * 2\n",
        "def get_model():\n",
        "  return keras.Sequential([\n",
        "    keras.layers.LSTM(80, activation='sigmoid', return_sequences=True, input_shape=(13*length, 1)),\n",
        "    keras.layers.LSTM(80),\n",
        "    #keras.layers.Dense(round(n/2), activation='tanh'),\n",
        "    #keras.layers.Dense(80, activation='tanh'),\n",
        "    #keras.layers.Dropout(0.25),\n",
        "    #keras.layers.Dense(60, activation='tanh'),\n",
        "    keras.layers.Dense(40, activation='linear')\n",
        "  ])"
      ],
      "execution_count": 0,
      "outputs": []
    },
    {
      "cell_type": "code",
      "metadata": {
        "id": "Kgkx2Y2w0TSH",
        "colab_type": "code",
        "outputId": "f534ecd0-0306-439a-fe07-25297ac09bcb",
        "colab": {
          "base_uri": "https://localhost:8080/",
          "height": 424
        }
      },
      "source": [
        "def r2(y_true, y_pred):\n",
        "    SS_res =  K.sum(K.square(y_true - y_pred)) \n",
        "    SS_tot = K.sum(K.square(y_true - K.mean(y_true))) \n",
        "    return 1 - SS_res/(SS_tot + K.epsilon())\n",
        "  \n",
        "def R_squared(y, y_pred):\n",
        "  residual = tf.reduce_sum(tf.square(tf.subtract(y, y_pred)))\n",
        "  total = tf.reduce_sum(tf.square(tf.subtract(y, tf.reduce_mean(y))))\n",
        "  r2 = tf.subtract(1.0, tf.div(residual, total))\n",
        "  return r2\n",
        "\n",
        "def max_error(y_true, y_pred):\n",
        "  return K.max(K.abs(y_true - y_pred))\n",
        "\n",
        "\n",
        "lstm_model = get_model()\n",
        "lstm_model.compile(optimizer=tf.train.AdamOptimizer(learning_rate=0.001),\n",
        "              loss='mse',\n",
        "              metrics=[R_squared])\n",
        "\n",
        "\n",
        "lstm_model.summary()"
      ],
      "execution_count": 0,
      "outputs": [
        {
          "output_type": "stream",
          "text": [
            "WARNING:tensorflow:From /usr/local/lib/python3.6/dist-packages/tensorflow/python/ops/resource_variable_ops.py:435: colocate_with (from tensorflow.python.framework.ops) is deprecated and will be removed in a future version.\n",
            "Instructions for updating:\n",
            "Colocations handled automatically by placer.\n",
            "WARNING:tensorflow:From /usr/local/lib/python3.6/dist-packages/tensorflow/python/keras/utils/losses_utils.py:170: to_float (from tensorflow.python.ops.math_ops) is deprecated and will be removed in a future version.\n",
            "Instructions for updating:\n",
            "Use tf.cast instead.\n",
            "WARNING:tensorflow:From <ipython-input-10-97cbb5dbaf56>:9: div (from tensorflow.python.ops.math_ops) is deprecated and will be removed in a future version.\n",
            "Instructions for updating:\n",
            "Deprecated in favor of operator or tf.math.divide.\n",
            "_________________________________________________________________\n",
            "Layer (type)                 Output Shape              Param #   \n",
            "=================================================================\n",
            "lstm (LSTM)                  (None, 208, 80)           26240     \n",
            "_________________________________________________________________\n",
            "lstm_1 (LSTM)                (None, 80)                51520     \n",
            "_________________________________________________________________\n",
            "dense (Dense)                (None, 40)                3240      \n",
            "=================================================================\n",
            "Total params: 81,000\n",
            "Trainable params: 81,000\n",
            "Non-trainable params: 0\n",
            "_________________________________________________________________\n"
          ],
          "name": "stdout"
        }
      ]
    },
    {
      "cell_type": "code",
      "metadata": {
        "id": "Lhdk1cun1bjN",
        "colab_type": "code",
        "outputId": "919c3054-34c5-4946-a137-8b6d25577e0c",
        "colab": {
          "base_uri": "https://localhost:8080/",
          "height": 228
        }
      },
      "source": [
        "if 'COLAB_TPU_ADDR' in os.environ:\n",
        "  TF_MASTER = 'grpc://{}'.format(os.environ['COLAB_TPU_ADDR'])\n",
        "else:\n",
        "  TF_MASTER=''\n",
        "\n",
        "with tf.Session(TF_MASTER) as session:\n",
        "  print ('List of devices:')\n",
        "  pprint.pprint(session.list_devices())"
      ],
      "execution_count": 0,
      "outputs": [
        {
          "output_type": "stream",
          "text": [
            "List of devices:\n",
            "[_DeviceAttributes(/job:tpu_worker/replica:0/task:0/device:CPU:0, CPU, -1, 7916786588808348970),\n",
            " _DeviceAttributes(/job:tpu_worker/replica:0/task:0/device:XLA_CPU:0, XLA_CPU, 17179869184, 16699213805441005141),\n",
            " _DeviceAttributes(/job:tpu_worker/replica:0/task:0/device:TPU:0, TPU, 17179869184, 4135136820598844845),\n",
            " _DeviceAttributes(/job:tpu_worker/replica:0/task:0/device:TPU:1, TPU, 17179869184, 13850192808593984690),\n",
            " _DeviceAttributes(/job:tpu_worker/replica:0/task:0/device:TPU:2, TPU, 17179869184, 14298482757506614324),\n",
            " _DeviceAttributes(/job:tpu_worker/replica:0/task:0/device:TPU:3, TPU, 17179869184, 12581471877824663446),\n",
            " _DeviceAttributes(/job:tpu_worker/replica:0/task:0/device:TPU:4, TPU, 17179869184, 5197309011729282596),\n",
            " _DeviceAttributes(/job:tpu_worker/replica:0/task:0/device:TPU:5, TPU, 17179869184, 6342608219964887220),\n",
            " _DeviceAttributes(/job:tpu_worker/replica:0/task:0/device:TPU:6, TPU, 17179869184, 195942560180287127),\n",
            " _DeviceAttributes(/job:tpu_worker/replica:0/task:0/device:TPU:7, TPU, 17179869184, 2996509823184113101),\n",
            " _DeviceAttributes(/job:tpu_worker/replica:0/task:0/device:TPU_SYSTEM:0, TPU_SYSTEM, 17179869184, 15259803235142626383)]\n"
          ],
          "name": "stdout"
        }
      ]
    },
    {
      "cell_type": "code",
      "metadata": {
        "colab_type": "code",
        "outputId": "94961a32-c55a-47aa-b324-da87c3909318",
        "id": "AWhNSrz4NrQQ",
        "colab": {
          "base_uri": "https://localhost:8080/",
          "height": 723
        }
      },
      "source": [
        "tpu_model = tf.contrib.tpu.keras_to_tpu_model(\n",
        "    lstm_model,\n",
        "    strategy=tf.contrib.tpu.TPUDistributionStrategy(\n",
        "        tf.contrib.cluster_resolver.TPUClusterResolver(TF_MASTER)))\n",
        "\n",
        "tpu_model.summary()"
      ],
      "execution_count": 0,
      "outputs": [
        {
          "output_type": "stream",
          "text": [
            "\n",
            "WARNING: The TensorFlow contrib module will not be included in TensorFlow 2.0.\n",
            "For more information, please see:\n",
            "  * https://github.com/tensorflow/community/blob/master/rfcs/20180907-contrib-sunset.md\n",
            "  * https://github.com/tensorflow/addons\n",
            "If you depend on functionality not listed there, please file an issue.\n",
            "\n",
            "INFO:tensorflow:Querying Tensorflow master (grpc://10.125.3.250:8470) for TPU system metadata.\n",
            "INFO:tensorflow:Found TPU system:\n",
            "INFO:tensorflow:*** Num TPU Cores: 8\n",
            "INFO:tensorflow:*** Num TPU Workers: 1\n",
            "INFO:tensorflow:*** Num TPU Cores Per Worker: 8\n",
            "INFO:tensorflow:*** Available Device: _DeviceAttributes(/job:worker/replica:0/task:0/device:CPU:0, CPU, -1, 7916786588808348970)\n",
            "INFO:tensorflow:*** Available Device: _DeviceAttributes(/job:worker/replica:0/task:0/device:XLA_CPU:0, XLA_CPU, 17179869184, 16699213805441005141)\n",
            "INFO:tensorflow:*** Available Device: _DeviceAttributes(/job:worker/replica:0/task:0/device:TPU:0, TPU, 17179869184, 4135136820598844845)\n",
            "INFO:tensorflow:*** Available Device: _DeviceAttributes(/job:worker/replica:0/task:0/device:TPU:1, TPU, 17179869184, 13850192808593984690)\n",
            "INFO:tensorflow:*** Available Device: _DeviceAttributes(/job:worker/replica:0/task:0/device:TPU:2, TPU, 17179869184, 14298482757506614324)\n",
            "INFO:tensorflow:*** Available Device: _DeviceAttributes(/job:worker/replica:0/task:0/device:TPU:3, TPU, 17179869184, 12581471877824663446)\n",
            "INFO:tensorflow:*** Available Device: _DeviceAttributes(/job:worker/replica:0/task:0/device:TPU:4, TPU, 17179869184, 5197309011729282596)\n",
            "INFO:tensorflow:*** Available Device: _DeviceAttributes(/job:worker/replica:0/task:0/device:TPU:5, TPU, 17179869184, 6342608219964887220)\n",
            "INFO:tensorflow:*** Available Device: _DeviceAttributes(/job:worker/replica:0/task:0/device:TPU:6, TPU, 17179869184, 195942560180287127)\n",
            "INFO:tensorflow:*** Available Device: _DeviceAttributes(/job:worker/replica:0/task:0/device:TPU:7, TPU, 17179869184, 2996509823184113101)\n",
            "INFO:tensorflow:*** Available Device: _DeviceAttributes(/job:worker/replica:0/task:0/device:TPU_SYSTEM:0, TPU_SYSTEM, 17179869184, 15259803235142626383)\n",
            "WARNING:tensorflow:tpu_model (from tensorflow.contrib.tpu.python.tpu.keras_support) is experimental and may change or be removed at any time, and without warning.\n",
            "_________________________________________________________________\n",
            "Layer (type)                 Output Shape              Param #   \n",
            "=================================================================\n",
            "lstm_input (InputLayer)      (None, 208, 1)            0         \n",
            "_________________________________________________________________\n",
            "lstm (LSTM)                  (None, 208, 80)           26240     \n",
            "_________________________________________________________________\n",
            "lstm_1 (LSTM)                (None, 80)                51520     \n",
            "_________________________________________________________________\n",
            "dense (Dense)                (None, 40)                3240      \n",
            "=================================================================\n",
            "Total params: 81,000\n",
            "Trainable params: 81,000\n",
            "Non-trainable params: 0\n",
            "_________________________________________________________________\n"
          ],
          "name": "stdout"
        }
      ]
    },
    {
      "cell_type": "code",
      "metadata": {
        "id": "Kb6nCnJB1PME",
        "colab_type": "code",
        "outputId": "9c60af29-df70-4015-bce2-88fbfd613a22",
        "colab": {
          "base_uri": "https://localhost:8080/",
          "height": 195
        }
      },
      "source": [
        "# Train the model\n",
        "start_time = time.time()\n",
        "history = tpu_model.fit(rnn_X_train, y_train, validation_data=(rnn_X_val, y_val), epochs=100, batch_size=128)\n",
        "print(\"--- %s seconds ---\" % (time.time() - start_time))"
      ],
      "execution_count": 0,
      "outputs": [
        {
          "output_type": "stream",
          "text": [
            "Train on 281408 samples, validate on 31268 samples\n",
            "Epoch 1/100\n",
            "INFO:tensorflow:New input shapes; (re-)compiling: mode=train (# of cores 8), [TensorSpec(shape=(16,), dtype=tf.int32, name='core_id0'), TensorSpec(shape=(16, 208, 1), dtype=tf.float32, name='lstm_input_10'), TensorSpec(shape=(16, 40), dtype=tf.float32, name='dense_target_30')]\n",
            "INFO:tensorflow:Overriding default placeholder.\n",
            "INFO:tensorflow:Remapping placeholder for lstm_input\n",
            "WARNING:tensorflow:From /usr/local/lib/python3.6/dist-packages/tensorflow/python/ops/math_ops.py:3066: to_int32 (from tensorflow.python.ops.math_ops) is deprecated and will be removed in a future version.\n",
            "Instructions for updating:\n",
            "Use tf.cast instead.\n",
            "INFO:tensorflow:Started compiling\n"
          ],
          "name": "stdout"
        }
      ]
    },
    {
      "cell_type": "code",
      "metadata": {
        "id": "9CERkrO-EK0K",
        "colab_type": "code",
        "outputId": "46a433ab-a00d-4b62-d826-3773e7d8f39b",
        "colab": {
          "base_uri": "https://localhost:8080/",
          "height": 35
        }
      },
      "source": [
        "tpu_model.save_weights('tpu_model.h5', overwrite=True)"
      ],
      "execution_count": 0,
      "outputs": [
        {
          "output_type": "stream",
          "text": [
            "INFO:tensorflow:Copying TPU weights to the CPU\n"
          ],
          "name": "stdout"
        }
      ]
    },
    {
      "cell_type": "code",
      "metadata": {
        "id": "TarQnalrEMtw",
        "colab_type": "code",
        "outputId": "e9389cd1-6ff7-4afd-a84a-9a3368a10916",
        "colab": {
          "base_uri": "https://localhost:8080/",
          "height": 35
        }
      },
      "source": [
        "eva = tpu_model.evaluate(rnn_X_val, y_val)"
      ],
      "execution_count": 0,
      "outputs": [
        {
          "output_type": "stream",
          "text": [
            "31229/31229 [==============================] - 18s 567us/sample - loss: 1.8799 - R_squared: 0.6921\n"
          ],
          "name": "stdout"
        }
      ]
    },
    {
      "cell_type": "code",
      "metadata": {
        "id": "zKHIh5ay39ck",
        "colab_type": "code",
        "outputId": "bc61b0b8-f82a-4508-eee6-ee9c79c2e897",
        "colab": {
          "base_uri": "https://localhost:8080/",
          "height": 287
        }
      },
      "source": [
        "import matplotlib.pyplot as plt\n",
        "plt.plot(history.history['loss'])\n",
        "plt.plot(history.history['val_loss'])"
      ],
      "execution_count": 0,
      "outputs": [
        {
          "output_type": "execute_result",
          "data": {
            "text/plain": [
              "[<matplotlib.lines.Line2D at 0x7f10463e4048>]"
            ]
          },
          "metadata": {
            "tags": []
          },
          "execution_count": 15
        },
        {
          "output_type": "display_data",
          "data": {
            "image/png": "[encoded data removed]",
            "text/plain": [
              "<Figure size 432x288 with 1 Axes>"
            ]
          },
          "metadata": {
            "tags": []
          }
        }
      ]
    },
    {
      "cell_type": "code",
      "metadata": {
        "id": "e11ybITV8sxz",
        "colab_type": "code",
        "outputId": "25ba970a-fcf7-4ecb-ee9d-fcadbf997d1f",
        "colab": {
          "base_uri": "https://localhost:8080/",
          "height": 287
        }
      },
      "source": [
        "plt.plot(history.history['R_squared'])\n",
        "plt.plot(history.history['val_R_squared'])"
      ],
      "execution_count": 0,
      "outputs": [
        {
          "output_type": "execute_result",
          "data": {
            "text/plain": [
              "[<matplotlib.lines.Line2D at 0x7f10463a9fd0>]"
            ]
          },
          "metadata": {
            "tags": []
          },
          "execution_count": 16
        },
        {
          "output_type": "display_data",
          "data": {
            "image/png": "[encoded data removed]",
            "text/plain": [
              "<Figure size 432x288 with 1 Axes>"
            ]
          },
          "metadata": {
            "tags": []
          }
        }
      ]
    },
    {
      "cell_type": "code",
      "metadata": {
        "id": "gVEyQZw-8tEB",
        "colab_type": "code",
        "outputId": "210b30b4-7700-4b1a-c385-649481b2022e",
        "colab": {
          "base_uri": "https://localhost:8080/",
          "height": 124
        }
      },
      "source": [
        "def r2(y_true, y_pred):\n",
        "  SS_res =  np.sum((y_true - y_pred)**2) \n",
        "  SS_tot = np.sum((y_true - np.mean(y_true))**2) \n",
        "  return 1 - SS_res/(SS_tot)\n",
        "print(r2(y_test[:-7], np.round(tpu_model.predict(rnn_X_test[:-7]))))"
      ],
      "execution_count": 0,
      "outputs": [
        {
          "output_type": "stream",
          "text": [
            "INFO:tensorflow:New input shapes; (re-)compiling: mode=infer (# of cores 8), [TensorSpec(shape=(4, 390, 1), dtype=tf.float32, name='lstm_input_10')]\n",
            "INFO:tensorflow:Overriding default placeholder.\n",
            "INFO:tensorflow:Remapping placeholder for lstm_input\n",
            "INFO:tensorflow:Started compiling\n",
            "INFO:tensorflow:Finished compiling. Time elapsed: 22.19285798072815 secs\n",
            "0.6019290434509164\n"
          ],
          "name": "stdout"
        }
      ]
    },
    {
      "cell_type": "code",
      "metadata": {
        "id": "4POiwNyo8vgC",
        "colab_type": "code",
        "colab": {}
      },
      "source": [
        "print(np.max(np.abs((tpu_model.predict(rnn_X_test[:-7]) - y_test[:-7]))))"
      ],
      "execution_count": 0,
      "outputs": []
    },
    {
      "cell_type": "code",
      "metadata": {
        "id": "gpsi-QLB8v0w",
        "colab_type": "code",
        "colab": {}
      },
      "source": [
        "#!mv extracted_data/merge_1.csv extracted_data/1merge_1.csv \n",
        "#!mv extracted_data/merge_2.csv extracted_data/1merge_2.csv \n",
        "#!mv extracted_data/merge_3.csv extracted_data/1merge_3.csv \n",
        "#!mv extracted_data/merge_4.csv extracted_data/1merge_4.csv \n",
        "#!mv extracted_data/merge_5.csv extracted_data/1merge_5.csv \n",
        "#!mv extracted_data/merge_6.csv extracted_data/1merge_6.csv \n",
        "#!mv extracted_data/merge_7.csv extracted_data/1merge_7.csv "
      ],
      "execution_count": 0,
      "outputs": []
    },
    {
      "cell_type": "code",
      "metadata": {
        "id": "N40ytRxLC62J",
        "colab_type": "code",
        "colab": {}
      },
      "source": [
        "pred = tpu_model.predict(rnn_X_test[:-7])\n",
        "pred = np.hstack((np.zeros(shape=(pred.shape[0], 96)), pred))\n",
        "pred = pred.reshape(pred.shape[0], 68,2)\n",
        "pred = pred.round().astype(np.int32)"
      ],
      "execution_count": 0,
      "outputs": []
    },
    {
      "cell_type": "code",
      "metadata": {
        "id": "QoolbZv8MF4a",
        "colab_type": "code",
        "colab": {}
      },
      "source": [
        "def get_video(pred):\n",
        "    with shelve.open('extracted_data/default_points_7.txt', 'r') as db:\n",
        "        default_points = db['default_face']\n",
        "        points_to_indexes = {tuple(p): i for i, p in enumerate(default_points)}\n",
        "\n",
        "    default_face = cv2.imread('data/def_face_7.png')\n",
        "    subdiv = cv2.Subdiv2D((0,0,320,320))\n",
        "    print(subdiv)\n",
        "\n",
        "    for p in default_points:\n",
        "        subdiv.insert(tuple(p))\n",
        "\n",
        "    def get_frame(delta):\n",
        "        # delta: list of ### with shape (num_points, 2)\n",
        "        triangles = []\n",
        "\n",
        "        for t in subdiv.getTriangleList():\n",
        "            \n",
        "            if not {tuple(t[i: i + 2]) for i in (0, 2, 4)}.issubset(set(points_to_indexes.keys())):\n",
        "                continue\n",
        "\n",
        "            # affine transform\n",
        "            old_pts = np.array([t[:2], t[2:4], t[4:]], np.int32)\n",
        "            d = np.array([delta[points_to_indexes[tuple(t[i: i + 2])]]  for i in (0, 2, 4)])\n",
        "            new_pts = old_pts + d\n",
        "            affinne_transform = cv2.getAffineTransform(old_pts.astype(np.float32), new_pts.astype(np.float32))\n",
        "            aff_image = cv2.warpAffine(default_face, affinne_transform, default_face.shape[:2], None, flags=cv2.INTER_LINEAR, borderMode=cv2.BORDER_REFLECT_101)\n",
        "\n",
        "            # masking of affine image\n",
        "            mask = np.zeros(aff_image.shape, dtype=np.uint8)\n",
        "            channel_count = aff_image.shape[2]\n",
        "            ignore_mask_color = (255,)*channel_count\n",
        "            cv2.fillPoly(mask, [new_pts], ignore_mask_color)\n",
        "            masked_image = cv2.bitwise_and(aff_image, mask)\n",
        "\n",
        "            triangles.append(masked_image)\n",
        "\n",
        "        triangles = np.array(triangles, dtype=np.float32)\n",
        "        #print('triangles: ', triangles.shape)\n",
        "\n",
        "        t1 = time.time()\n",
        "        #print('triangles: ', triangles.shape)\n",
        "        triangles[(triangles == 0).all(axis=3)] = np.nan\n",
        "        res = np.nan_to_num(np.nanmean(triangles, axis=0)).astype(np.uint8)\n",
        "\n",
        "        #print(time.time() - t1)\n",
        "        return res\n",
        "\n",
        "    # Define the codec and create VideoWriter object\n",
        "    fourcc = cv2.VideoWriter_fourcc(*'XVID')\n",
        "    out = cv2.VideoWriter('output.avi',fourcc, 30, (320,320))\n",
        "    \n",
        "    for i, delta in enumerate(pred):\n",
        "        print('Frame number {} : {}'.format(i + 1, len(pred)))\n",
        "        out.write(get_frame(delta))\n",
        "    \n",
        "    out.release()"
      ],
      "execution_count": 0,
      "outputs": []
    },
    {
      "cell_type": "code",
      "metadata": {
        "id": "2KYM9xG9MVcJ",
        "colab_type": "code",
        "outputId": "2f46aff3-40d9-4bd6-a18e-70f4a87389ca",
        "colab": {
          "base_uri": "https://localhost:8080/",
          "height": 8986
        }
      },
      "source": [
        "get_video(pred[:500])"
      ],
      "execution_count": 0,
      "outputs": [
        {
          "output_type": "stream",
          "text": [
            "<Subdiv2D 0x7f1043bc8a10>\n",
            "Frame number 1 : 500\n"
          ],
          "name": "stdout"
        },
        {
          "output_type": "stream",
          "text": [
            "/usr/local/lib/python3.6/dist-packages/ipykernel_launcher.py:44: RuntimeWarning: Mean of empty slice\n"
          ],
          "name": "stderr"
        },
        {
          "output_type": "stream",
          "text": [
            "Frame number 2 : 500\n",
            "Frame number 3 : 500\n",
            "Frame number 4 : 500\n",
            "Frame number 5 : 500\n",
            "Frame number 6 : 500\n",
            "Frame number 7 : 500\n",
            "Frame number 8 : 500\n",
            "Frame number 9 : 500\n",
            "Frame number 10 : 500\n",
            "Frame number 11 : 500\n",
            "Frame number 12 : 500\n",
            "Frame number 13 : 500\n",
            "Frame number 14 : 500\n",
            "Frame number 15 : 500\n",
            "Frame number 16 : 500\n",
            "Frame number 17 : 500\n",
            "Frame number 18 : 500\n",
            "Frame number 19 : 500\n",
            "Frame number 20 : 500\n",
            "Frame number 21 : 500\n",
            "Frame number 22 : 500\n",
            "Frame number 23 : 500\n",
            "Frame number 24 : 500\n",
            "Frame number 25 : 500\n",
            "Frame number 26 : 500\n",
            "Frame number 27 : 500\n",
            "Frame number 28 : 500\n",
            "Frame number 29 : 500\n",
            "Frame number 30 : 500\n",
            "Frame number 31 : 500\n",
            "Frame number 32 : 500\n",
            "Frame number 33 : 500\n",
            "Frame number 34 : 500\n",
            "Frame number 35 : 500\n",
            "Frame number 36 : 500\n",
            "Frame number 37 : 500\n",
            "Frame number 38 : 500\n",
            "Frame number 39 : 500\n",
            "Frame number 40 : 500\n",
            "Frame number 41 : 500\n",
            "Frame number 42 : 500\n",
            "Frame number 43 : 500\n",
            "Frame number 44 : 500\n",
            "Frame number 45 : 500\n",
            "Frame number 46 : 500\n",
            "Frame number 47 : 500\n",
            "Frame number 48 : 500\n",
            "Frame number 49 : 500\n",
            "Frame number 50 : 500\n",
            "Frame number 51 : 500\n",
            "Frame number 52 : 500\n",
            "Frame number 53 : 500\n",
            "Frame number 54 : 500\n",
            "Frame number 55 : 500\n",
            "Frame number 56 : 500\n",
            "Frame number 57 : 500\n",
            "Frame number 58 : 500\n",
            "Frame number 59 : 500\n",
            "Frame number 60 : 500\n",
            "Frame number 61 : 500\n",
            "Frame number 62 : 500\n",
            "Frame number 63 : 500\n",
            "Frame number 64 : 500\n",
            "Frame number 65 : 500\n",
            "Frame number 66 : 500\n",
            "Frame number 67 : 500\n",
            "Frame number 68 : 500\n",
            "Frame number 69 : 500\n",
            "Frame number 70 : 500\n",
            "Frame number 71 : 500\n",
            "Frame number 72 : 500\n",
            "Frame number 73 : 500\n",
            "Frame number 74 : 500\n",
            "Frame number 75 : 500\n",
            "Frame number 76 : 500\n",
            "Frame number 77 : 500\n",
            "Frame number 78 : 500\n",
            "Frame number 79 : 500\n",
            "Frame number 80 : 500\n",
            "Frame number 81 : 500\n",
            "Frame number 82 : 500\n",
            "Frame number 83 : 500\n",
            "Frame number 84 : 500\n",
            "Frame number 85 : 500\n",
            "Frame number 86 : 500\n",
            "Frame number 87 : 500\n",
            "Frame number 88 : 500\n",
            "Frame number 89 : 500\n",
            "Frame number 90 : 500\n",
            "Frame number 91 : 500\n",
            "Frame number 92 : 500\n",
            "Frame number 93 : 500\n",
            "Frame number 94 : 500\n",
            "Frame number 95 : 500\n",
            "Frame number 96 : 500\n",
            "Frame number 97 : 500\n",
            "Frame number 98 : 500\n",
            "Frame number 99 : 500\n",
            "Frame number 100 : 500\n",
            "Frame number 101 : 500\n",
            "Frame number 102 : 500\n",
            "Frame number 103 : 500\n",
            "Frame number 104 : 500\n",
            "Frame number 105 : 500\n",
            "Frame number 106 : 500\n",
            "Frame number 107 : 500\n",
            "Frame number 108 : 500\n",
            "Frame number 109 : 500\n",
            "Frame number 110 : 500\n",
            "Frame number 111 : 500\n",
            "Frame number 112 : 500\n",
            "Frame number 113 : 500\n",
            "Frame number 114 : 500\n",
            "Frame number 115 : 500\n",
            "Frame number 116 : 500\n",
            "Frame number 117 : 500\n",
            "Frame number 118 : 500\n",
            "Frame number 119 : 500\n",
            "Frame number 120 : 500\n",
            "Frame number 121 : 500\n",
            "Frame number 122 : 500\n",
            "Frame number 123 : 500\n",
            "Frame number 124 : 500\n",
            "Frame number 125 : 500\n",
            "Frame number 126 : 500\n",
            "Frame number 127 : 500\n",
            "Frame number 128 : 500\n",
            "Frame number 129 : 500\n",
            "Frame number 130 : 500\n",
            "Frame number 131 : 500\n",
            "Frame number 132 : 500\n",
            "Frame number 133 : 500\n",
            "Frame number 134 : 500\n",
            "Frame number 135 : 500\n",
            "Frame number 136 : 500\n",
            "Frame number 137 : 500\n",
            "Frame number 138 : 500\n",
            "Frame number 139 : 500\n",
            "Frame number 140 : 500\n",
            "Frame number 141 : 500\n",
            "Frame number 142 : 500\n",
            "Frame number 143 : 500\n",
            "Frame number 144 : 500\n",
            "Frame number 145 : 500\n",
            "Frame number 146 : 500\n",
            "Frame number 147 : 500\n",
            "Frame number 148 : 500\n",
            "Frame number 149 : 500\n",
            "Frame number 150 : 500\n",
            "Frame number 151 : 500\n",
            "Frame number 152 : 500\n",
            "Frame number 153 : 500\n",
            "Frame number 154 : 500\n",
            "Frame number 155 : 500\n",
            "Frame number 156 : 500\n",
            "Frame number 157 : 500\n",
            "Frame number 158 : 500\n",
            "Frame number 159 : 500\n",
            "Frame number 160 : 500\n",
            "Frame number 161 : 500\n",
            "Frame number 162 : 500\n",
            "Frame number 163 : 500\n",
            "Frame number 164 : 500\n",
            "Frame number 165 : 500\n",
            "Frame number 166 : 500\n",
            "Frame number 167 : 500\n",
            "Frame number 168 : 500\n",
            "Frame number 169 : 500\n",
            "Frame number 170 : 500\n",
            "Frame number 171 : 500\n",
            "Frame number 172 : 500\n",
            "Frame number 173 : 500\n",
            "Frame number 174 : 500\n",
            "Frame number 175 : 500\n",
            "Frame number 176 : 500\n",
            "Frame number 177 : 500\n",
            "Frame number 178 : 500\n",
            "Frame number 179 : 500\n",
            "Frame number 180 : 500\n",
            "Frame number 181 : 500\n",
            "Frame number 182 : 500\n",
            "Frame number 183 : 500\n",
            "Frame number 184 : 500\n",
            "Frame number 185 : 500\n",
            "Frame number 186 : 500\n",
            "Frame number 187 : 500\n",
            "Frame number 188 : 500\n",
            "Frame number 189 : 500\n",
            "Frame number 190 : 500\n",
            "Frame number 191 : 500\n",
            "Frame number 192 : 500\n",
            "Frame number 193 : 500\n",
            "Frame number 194 : 500\n",
            "Frame number 195 : 500\n",
            "Frame number 196 : 500\n",
            "Frame number 197 : 500\n",
            "Frame number 198 : 500\n",
            "Frame number 199 : 500\n",
            "Frame number 200 : 500\n",
            "Frame number 201 : 500\n",
            "Frame number 202 : 500\n",
            "Frame number 203 : 500\n",
            "Frame number 204 : 500\n",
            "Frame number 205 : 500\n",
            "Frame number 206 : 500\n",
            "Frame number 207 : 500\n",
            "Frame number 208 : 500\n",
            "Frame number 209 : 500\n",
            "Frame number 210 : 500\n",
            "Frame number 211 : 500\n",
            "Frame number 212 : 500\n",
            "Frame number 213 : 500\n",
            "Frame number 214 : 500\n",
            "Frame number 215 : 500\n",
            "Frame number 216 : 500\n",
            "Frame number 217 : 500\n",
            "Frame number 218 : 500\n",
            "Frame number 219 : 500\n",
            "Frame number 220 : 500\n",
            "Frame number 221 : 500\n",
            "Frame number 222 : 500\n",
            "Frame number 223 : 500\n",
            "Frame number 224 : 500\n",
            "Frame number 225 : 500\n",
            "Frame number 226 : 500\n",
            "Frame number 227 : 500\n",
            "Frame number 228 : 500\n",
            "Frame number 229 : 500\n",
            "Frame number 230 : 500\n",
            "Frame number 231 : 500\n",
            "Frame number 232 : 500\n",
            "Frame number 233 : 500\n",
            "Frame number 234 : 500\n",
            "Frame number 235 : 500\n",
            "Frame number 236 : 500\n",
            "Frame number 237 : 500\n",
            "Frame number 238 : 500\n",
            "Frame number 239 : 500\n",
            "Frame number 240 : 500\n",
            "Frame number 241 : 500\n",
            "Frame number 242 : 500\n",
            "Frame number 243 : 500\n",
            "Frame number 244 : 500\n",
            "Frame number 245 : 500\n",
            "Frame number 246 : 500\n",
            "Frame number 247 : 500\n",
            "Frame number 248 : 500\n",
            "Frame number 249 : 500\n",
            "Frame number 250 : 500\n",
            "Frame number 251 : 500\n",
            "Frame number 252 : 500\n",
            "Frame number 253 : 500\n",
            "Frame number 254 : 500\n",
            "Frame number 255 : 500\n",
            "Frame number 256 : 500\n",
            "Frame number 257 : 500\n",
            "Frame number 258 : 500\n",
            "Frame number 259 : 500\n",
            "Frame number 260 : 500\n",
            "Frame number 261 : 500\n",
            "Frame number 262 : 500\n",
            "Frame number 263 : 500\n",
            "Frame number 264 : 500\n",
            "Frame number 265 : 500\n",
            "Frame number 266 : 500\n",
            "Frame number 267 : 500\n",
            "Frame number 268 : 500\n",
            "Frame number 269 : 500\n",
            "Frame number 270 : 500\n",
            "Frame number 271 : 500\n",
            "Frame number 272 : 500\n",
            "Frame number 273 : 500\n",
            "Frame number 274 : 500\n",
            "Frame number 275 : 500\n",
            "Frame number 276 : 500\n",
            "Frame number 277 : 500\n",
            "Frame number 278 : 500\n",
            "Frame number 279 : 500\n",
            "Frame number 280 : 500\n",
            "Frame number 281 : 500\n",
            "Frame number 282 : 500\n",
            "Frame number 283 : 500\n",
            "Frame number 284 : 500\n",
            "Frame number 285 : 500\n",
            "Frame number 286 : 500\n",
            "Frame number 287 : 500\n",
            "Frame number 288 : 500\n",
            "Frame number 289 : 500\n",
            "Frame number 290 : 500\n",
            "Frame number 291 : 500\n",
            "Frame number 292 : 500\n",
            "Frame number 293 : 500\n",
            "Frame number 294 : 500\n",
            "Frame number 295 : 500\n",
            "Frame number 296 : 500\n",
            "Frame number 297 : 500\n",
            "Frame number 298 : 500\n",
            "Frame number 299 : 500\n",
            "Frame number 300 : 500\n",
            "Frame number 301 : 500\n",
            "Frame number 302 : 500\n",
            "Frame number 303 : 500\n",
            "Frame number 304 : 500\n",
            "Frame number 305 : 500\n",
            "Frame number 306 : 500\n",
            "Frame number 307 : 500\n",
            "Frame number 308 : 500\n",
            "Frame number 309 : 500\n",
            "Frame number 310 : 500\n",
            "Frame number 311 : 500\n",
            "Frame number 312 : 500\n",
            "Frame number 313 : 500\n",
            "Frame number 314 : 500\n",
            "Frame number 315 : 500\n",
            "Frame number 316 : 500\n",
            "Frame number 317 : 500\n",
            "Frame number 318 : 500\n",
            "Frame number 319 : 500\n",
            "Frame number 320 : 500\n",
            "Frame number 321 : 500\n",
            "Frame number 322 : 500\n",
            "Frame number 323 : 500\n",
            "Frame number 324 : 500\n",
            "Frame number 325 : 500\n",
            "Frame number 326 : 500\n",
            "Frame number 327 : 500\n",
            "Frame number 328 : 500\n",
            "Frame number 329 : 500\n",
            "Frame number 330 : 500\n",
            "Frame number 331 : 500\n",
            "Frame number 332 : 500\n",
            "Frame number 333 : 500\n",
            "Frame number 334 : 500\n",
            "Frame number 335 : 500\n",
            "Frame number 336 : 500\n",
            "Frame number 337 : 500\n",
            "Frame number 338 : 500\n",
            "Frame number 339 : 500\n",
            "Frame number 340 : 500\n",
            "Frame number 341 : 500\n",
            "Frame number 342 : 500\n",
            "Frame number 343 : 500\n",
            "Frame number 344 : 500\n",
            "Frame number 345 : 500\n",
            "Frame number 346 : 500\n",
            "Frame number 347 : 500\n",
            "Frame number 348 : 500\n",
            "Frame number 349 : 500\n",
            "Frame number 350 : 500\n",
            "Frame number 351 : 500\n",
            "Frame number 352 : 500\n",
            "Frame number 353 : 500\n",
            "Frame number 354 : 500\n",
            "Frame number 355 : 500\n",
            "Frame number 356 : 500\n",
            "Frame number 357 : 500\n",
            "Frame number 358 : 500\n",
            "Frame number 359 : 500\n",
            "Frame number 360 : 500\n",
            "Frame number 361 : 500\n",
            "Frame number 362 : 500\n",
            "Frame number 363 : 500\n",
            "Frame number 364 : 500\n",
            "Frame number 365 : 500\n",
            "Frame number 366 : 500\n",
            "Frame number 367 : 500\n",
            "Frame number 368 : 500\n",
            "Frame number 369 : 500\n",
            "Frame number 370 : 500\n",
            "Frame number 371 : 500\n",
            "Frame number 372 : 500\n",
            "Frame number 373 : 500\n",
            "Frame number 374 : 500\n",
            "Frame number 375 : 500\n",
            "Frame number 376 : 500\n",
            "Frame number 377 : 500\n",
            "Frame number 378 : 500\n",
            "Frame number 379 : 500\n",
            "Frame number 380 : 500\n",
            "Frame number 381 : 500\n",
            "Frame number 382 : 500\n",
            "Frame number 383 : 500\n",
            "Frame number 384 : 500\n",
            "Frame number 385 : 500\n",
            "Frame number 386 : 500\n",
            "Frame number 387 : 500\n",
            "Frame number 388 : 500\n",
            "Frame number 389 : 500\n",
            "Frame number 390 : 500\n",
            "Frame number 391 : 500\n",
            "Frame number 392 : 500\n",
            "Frame number 393 : 500\n",
            "Frame number 394 : 500\n",
            "Frame number 395 : 500\n",
            "Frame number 396 : 500\n",
            "Frame number 397 : 500\n",
            "Frame number 398 : 500\n",
            "Frame number 399 : 500\n",
            "Frame number 400 : 500\n",
            "Frame number 401 : 500\n",
            "Frame number 402 : 500\n",
            "Frame number 403 : 500\n",
            "Frame number 404 : 500\n",
            "Frame number 405 : 500\n",
            "Frame number 406 : 500\n",
            "Frame number 407 : 500\n",
            "Frame number 408 : 500\n",
            "Frame number 409 : 500\n",
            "Frame number 410 : 500\n",
            "Frame number 411 : 500\n",
            "Frame number 412 : 500\n",
            "Frame number 413 : 500\n",
            "Frame number 414 : 500\n",
            "Frame number 415 : 500\n",
            "Frame number 416 : 500\n",
            "Frame number 417 : 500\n",
            "Frame number 418 : 500\n",
            "Frame number 419 : 500\n",
            "Frame number 420 : 500\n",
            "Frame number 421 : 500\n",
            "Frame number 422 : 500\n",
            "Frame number 423 : 500\n",
            "Frame number 424 : 500\n",
            "Frame number 425 : 500\n",
            "Frame number 426 : 500\n",
            "Frame number 427 : 500\n",
            "Frame number 428 : 500\n",
            "Frame number 429 : 500\n",
            "Frame number 430 : 500\n",
            "Frame number 431 : 500\n",
            "Frame number 432 : 500\n",
            "Frame number 433 : 500\n",
            "Frame number 434 : 500\n",
            "Frame number 435 : 500\n",
            "Frame number 436 : 500\n",
            "Frame number 437 : 500\n",
            "Frame number 438 : 500\n",
            "Frame number 439 : 500\n",
            "Frame number 440 : 500\n",
            "Frame number 441 : 500\n",
            "Frame number 442 : 500\n",
            "Frame number 443 : 500\n",
            "Frame number 444 : 500\n",
            "Frame number 445 : 500\n",
            "Frame number 446 : 500\n",
            "Frame number 447 : 500\n",
            "Frame number 448 : 500\n",
            "Frame number 449 : 500\n",
            "Frame number 450 : 500\n",
            "Frame number 451 : 500\n",
            "Frame number 452 : 500\n",
            "Frame number 453 : 500\n",
            "Frame number 454 : 500\n",
            "Frame number 455 : 500\n",
            "Frame number 456 : 500\n",
            "Frame number 457 : 500\n",
            "Frame number 458 : 500\n",
            "Frame number 459 : 500\n",
            "Frame number 460 : 500\n",
            "Frame number 461 : 500\n",
            "Frame number 462 : 500\n",
            "Frame number 463 : 500\n",
            "Frame number 464 : 500\n",
            "Frame number 465 : 500\n",
            "Frame number 466 : 500\n",
            "Frame number 467 : 500\n",
            "Frame number 468 : 500\n",
            "Frame number 469 : 500\n",
            "Frame number 470 : 500\n",
            "Frame number 471 : 500\n",
            "Frame number 472 : 500\n",
            "Frame number 473 : 500\n",
            "Frame number 474 : 500\n",
            "Frame number 475 : 500\n",
            "Frame number 476 : 500\n",
            "Frame number 477 : 500\n",
            "Frame number 478 : 500\n",
            "Frame number 479 : 500\n",
            "Frame number 480 : 500\n",
            "Frame number 481 : 500\n",
            "Frame number 482 : 500\n",
            "Frame number 483 : 500\n",
            "Frame number 484 : 500\n",
            "Frame number 485 : 500\n",
            "Frame number 486 : 500\n",
            "Frame number 487 : 500\n",
            "Frame number 488 : 500\n",
            "Frame number 489 : 500\n",
            "Frame number 490 : 500\n",
            "Frame number 491 : 500\n",
            "Frame number 492 : 500\n",
            "Frame number 493 : 500\n",
            "Frame number 494 : 500\n",
            "Frame number 495 : 500\n",
            "Frame number 496 : 500\n",
            "Frame number 497 : 500\n",
            "Frame number 498 : 500\n",
            "Frame number 499 : 500\n",
            "Frame number 500 : 500\n"
          ],
          "name": "stdout"
        }
      ]
    },
    {
      "cell_type": "code",
      "metadata": {
        "id": "CkoSp4ilMXAt",
        "colab_type": "code",
        "colab": {}
      },
      "source": [
        "pred = y_test\n",
        "pred = np.hstack((np.zeros(shape=(pred.shape[0], 96)), pred))\n",
        "pred = pred.reshape(pred.shape[0], 68,2)\n",
        "pred = pred.round().astype(np.int32)"
      ],
      "execution_count": 0,
      "outputs": []
    }
  ]
}